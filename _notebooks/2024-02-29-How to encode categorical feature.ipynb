{
 "cells": [
  {
   "cell_type": "markdown",
   "id": "7b2876fe",
   "metadata": {},
   "source": [
    "# How to encode categorical feature"
   ]
  },
  {
   "cell_type": "markdown",
   "id": "a8e3a5d8",
   "metadata": {},
   "source": [
    "# Abstraction\n"
   ]
  },
  {
   "cell_type": "markdown",
   "id": "538925cb",
   "metadata": {},
   "source": [
    "There are some popular ways to encode categorical feature: Using dictionary to convert data to index, using one-hot vector approach, or we just train a neural network and encode data as word2vec. "
   ]
  },
  {
   "cell_type": "markdown",
   "id": "c6de3fb8",
   "metadata": {},
   "source": [
    "# Solution"
   ]
  },
  {
   "cell_type": "markdown",
   "id": "9015706d",
   "metadata": {},
   "source": [
    "## Character-level tockenization "
   ]
  },
  {
   "cell_type": "markdown",
   "id": "47019f14",
   "metadata": {},
   "source": [
    "https://discuss.huggingface.co/t/character-level-tokenizer/12450\n",
    "https://towardsdatascience.com/word-subword-and-character-based-tokenization-know-the-difference-ea0976b64e17\n",
    "https://www.reddit.com/r/MachineLearning/comments/uukxk7/d_characterlevel_vs_wordlevel_tokenization/"
   ]
  },
  {
   "cell_type": "markdown",
   "id": "1a39b926",
   "metadata": {},
   "source": [
    "## Byte Pair Encoding - Karpathy approach\n",
    "\n",
    "https://github.com/karpathy/minbpe\n"
   ]
  },
  {
   "cell_type": "markdown",
   "id": "36d3127f",
   "metadata": {},
   "source": []
  }
 ],
 "metadata": {
  "kernelspec": {
   "display_name": "reflection",
   "language": "python",
   "name": "myenv"
  },
  "language_info": {
   "codemirror_mode": {
    "name": "ipython",
    "version": 3
   },
   "file_extension": ".py",
   "mimetype": "text/x-python",
   "name": "python",
   "nbconvert_exporter": "python",
   "pygments_lexer": "ipython3",
   "version": "3.8.9"
  },
  "toc": {
   "base_numbering": 1,
   "nav_menu": {},
   "number_sections": true,
   "sideBar": true,
   "skip_h1_title": false,
   "title_cell": "Table of Contents",
   "title_sidebar": "Contents",
   "toc_cell": false,
   "toc_position": {},
   "toc_section_display": true,
   "toc_window_display": true
  },
  "varInspector": {
   "cols": {
    "lenName": 16,
    "lenType": 16,
    "lenVar": 40
   },
   "kernels_config": {
    "python": {
     "delete_cmd_postfix": "",
     "delete_cmd_prefix": "del ",
     "library": "var_list.py",
     "varRefreshCmd": "print(var_dic_list())"
    },
    "r": {
     "delete_cmd_postfix": ") ",
     "delete_cmd_prefix": "rm(",
     "library": "var_list.r",
     "varRefreshCmd": "cat(var_dic_list()) "
    }
   },
   "types_to_exclude": [
    "module",
    "function",
    "builtin_function_or_method",
    "instance",
    "_Feature"
   ],
   "window_display": false
  }
 },
 "nbformat": 4,
 "nbformat_minor": 5
}
