{
 "cells": [
  {
   "cell_type": "markdown",
   "metadata": {},
   "source": [
    "# Sample of liquidity risk assessment"
   ]
  },
  {
   "cell_type": "markdown",
   "metadata": {},
   "source": [
    "**We generate a simple demo data as below:**"
   ]
  },
  {
   "cell_type": "code",
   "execution_count": 1,
   "metadata": {},
   "outputs": [
    {
     "data": {
      "text/html": [
       "<div>\n",
       "<style scoped>\n",
       "    .dataframe tbody tr th:only-of-type {\n",
       "        vertical-align: middle;\n",
       "    }\n",
       "\n",
       "    .dataframe tbody tr th {\n",
       "        vertical-align: top;\n",
       "    }\n",
       "\n",
       "    .dataframe thead th {\n",
       "        text-align: right;\n",
       "    }\n",
       "</style>\n",
       "<table border=\"1\" class=\"dataframe\">\n",
       "  <thead>\n",
       "    <tr style=\"text-align: right;\">\n",
       "      <th></th>\n",
       "      <th>Cryptocurrency</th>\n",
       "      <th>Trading Volume (M)</th>\n",
       "      <th>Transaction Count</th>\n",
       "      <th>Bid-Ask Spread (%)</th>\n",
       "      <th>Market Depth</th>\n",
       "      <th>Historical Liquidity</th>\n",
       "      <th>Exchange Presence</th>\n",
       "    </tr>\n",
       "  </thead>\n",
       "  <tbody>\n",
       "    <tr>\n",
       "      <th>0</th>\n",
       "      <td>BTC</td>\n",
       "      <td>50</td>\n",
       "      <td>200000</td>\n",
       "      <td>0.1</td>\n",
       "      <td>High</td>\n",
       "      <td>Very Liquid</td>\n",
       "      <td>Major Exchanges</td>\n",
       "    </tr>\n",
       "    <tr>\n",
       "      <th>1</th>\n",
       "      <td>ETH</td>\n",
       "      <td>30</td>\n",
       "      <td>150000</td>\n",
       "      <td>0.2</td>\n",
       "      <td>High</td>\n",
       "      <td>Mostly Liquid</td>\n",
       "      <td>Major Exchanges</td>\n",
       "    </tr>\n",
       "    <tr>\n",
       "      <th>2</th>\n",
       "      <td>XRP</td>\n",
       "      <td>15</td>\n",
       "      <td>100000</td>\n",
       "      <td>0.5</td>\n",
       "      <td>Moderate</td>\n",
       "      <td>Moderately Liquid</td>\n",
       "      <td>Major Exchanges</td>\n",
       "    </tr>\n",
       "    <tr>\n",
       "      <th>3</th>\n",
       "      <td>LTC</td>\n",
       "      <td>10</td>\n",
       "      <td>80000</td>\n",
       "      <td>0.8</td>\n",
       "      <td>Low</td>\n",
       "      <td>Affected</td>\n",
       "      <td>Major Exchanges</td>\n",
       "    </tr>\n",
       "  </tbody>\n",
       "</table>\n",
       "</div>"
      ],
      "text/plain": [
       "  Cryptocurrency  Trading Volume (M)  Transaction Count  Bid-Ask Spread (%)  \\\n",
       "0            BTC                  50             200000                 0.1   \n",
       "1            ETH                  30             150000                 0.2   \n",
       "2            XRP                  15             100000                 0.5   \n",
       "3            LTC                  10              80000                 0.8   \n",
       "\n",
       "  Market Depth Historical Liquidity Exchange Presence  \n",
       "0         High          Very Liquid   Major Exchanges  \n",
       "1         High        Mostly Liquid   Major Exchanges  \n",
       "2     Moderate    Moderately Liquid   Major Exchanges  \n",
       "3          Low             Affected   Major Exchanges  "
      ]
     },
     "execution_count": 1,
     "metadata": {},
     "output_type": "execute_result"
    }
   ],
   "source": [
    "import pandas as pd \n",
    "df = pd.read_csv(\"sample_data_of_liquidity_risk_assessment.csv\")\n",
    "df"
   ]
  },
  {
   "cell_type": "markdown",
   "metadata": {},
   "source": [
    "**Compute risk**"
   ]
  },
  {
   "cell_type": "markdown",
   "metadata": {},
   "source": [
    "$Liquidity Risk Score= Trading Volume Score+Bid-Ask Spread Score+Market Depth Score+Historical Liquidity Score+Market Presence Score$\n",
    "​\n"
   ]
  },
  {
   "cell_type": "code",
   "execution_count": 1,
   "metadata": {},
   "outputs": [
    {
     "data": {
      "text/plain": [
       "{'BTC': 1.2, 'ETH': 1.8, 'XRP': 2.6, 'LTC': 3.0}"
      ]
     },
     "execution_count": 1,
     "metadata": {},
     "output_type": "execute_result"
    }
   ],
   "source": [
    "# Define the data\n",
    "cryptos = {\n",
    "    \"BTC\": {\"Trading Volume\": 1, \"Bid-Ask Spread\": 1, \"Market Depth\": 2, \"Historical Liquidity\": 1, \"Market Presence\": 1},\n",
    "    \"ETH\": {\"Trading Volume\": 2, \"Bid-Ask Spread\": 2, \"Market Depth\": 2, \"Historical Liquidity\": 2, \"Market Presence\": 1},\n",
    "    \"XRP\": {\"Trading Volume\": 3, \"Bid-Ask Spread\": 3, \"Market Depth\": 3, \"Historical Liquidity\": 3, \"Market Presence\": 1},\n",
    "    \"LTC\": {\"Trading Volume\": 3, \"Bid-Ask Spread\": 3, \"Market Depth\": 4, \"Historical Liquidity\": 4, \"Market Presence\": 1}\n",
    "}\n",
    "\n",
    "# Calculate the liquidity risk score\n",
    "def calculate_liquidity_risk_score(data):\n",
    "    scores = {}\n",
    "    for crypto, factors in data.items():\n",
    "        score = sum(factors.values()) / len(factors)\n",
    "        scores[crypto] = score\n",
    "    return scores\n",
    "\n",
    "# Calculate scores\n",
    "liquidity_risk_scores = calculate_liquidity_risk_score(cryptos)\n",
    "liquidity_risk_scores\n"
   ]
  },
  {
   "cell_type": "markdown",
   "metadata": {},
   "source": [
    "- **Low Liquidity Risk**: BTC, ETH\n",
    "- **Moderate Liquidity Risk**: XRP, LTC"
   ]
  },
  {
   "cell_type": "markdown",
   "metadata": {},
   "source": []
  }
 ],
 "metadata": {
  "kernelspec": {
   "display_name": "Python 3",
   "language": "python",
   "name": "python3"
  },
  "language_info": {
   "codemirror_mode": {
    "name": "ipython",
    "version": 3
   },
   "file_extension": ".py",
   "mimetype": "text/x-python",
   "name": "python",
   "nbconvert_exporter": "python",
   "pygments_lexer": "ipython3",
   "version": "3.10.11"
  }
 },
 "nbformat": 4,
 "nbformat_minor": 2
}
