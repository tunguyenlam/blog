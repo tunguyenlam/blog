{
 "cells": [
  {
   "cell_type": "markdown",
   "metadata": {},
   "source": [
    "# Sample of liquidity risk assessment"
   ]
  },
  {
   "cell_type": "markdown",
   "metadata": {},
   "source": [
    "$Liquidity Risk Score= Trading Volume Score+Bid-Ask Spread Score+Market Depth Score+Historical Liquidity Score+Market Presence Score$\n",
    "​\n"
   ]
  },
  {
   "cell_type": "code",
   "execution_count": 1,
   "metadata": {},
   "outputs": [
    {
     "data": {
      "text/plain": [
       "{'BTC': 1.2, 'ETH': 1.8, 'XRP': 2.6, 'LTC': 3.0}"
      ]
     },
     "execution_count": 1,
     "metadata": {},
     "output_type": "execute_result"
    }
   ],
   "source": [
    "# Define the data\n",
    "cryptos = {\n",
    "    \"BTC\": {\"Trading Volume\": 1, \"Bid-Ask Spread\": 1, \"Market Depth\": 2, \"Historical Liquidity\": 1, \"Market Presence\": 1},\n",
    "    \"ETH\": {\"Trading Volume\": 2, \"Bid-Ask Spread\": 2, \"Market Depth\": 2, \"Historical Liquidity\": 2, \"Market Presence\": 1},\n",
    "    \"XRP\": {\"Trading Volume\": 3, \"Bid-Ask Spread\": 3, \"Market Depth\": 3, \"Historical Liquidity\": 3, \"Market Presence\": 1},\n",
    "    \"LTC\": {\"Trading Volume\": 3, \"Bid-Ask Spread\": 3, \"Market Depth\": 4, \"Historical Liquidity\": 4, \"Market Presence\": 1}\n",
    "}\n",
    "\n",
    "# Calculate the liquidity risk score\n",
    "def calculate_liquidity_risk_score(data):\n",
    "    scores = {}\n",
    "    for crypto, factors in data.items():\n",
    "        score = sum(factors.values()) / len(factors)\n",
    "        scores[crypto] = score\n",
    "    return scores\n",
    "\n",
    "# Calculate scores\n",
    "liquidity_risk_scores = calculate_liquidity_risk_score(cryptos)\n",
    "liquidity_risk_scores\n"
   ]
  },
  {
   "cell_type": "code",
   "execution_count": null,
   "metadata": {},
   "outputs": [],
   "source": []
  }
 ],
 "metadata": {
  "kernelspec": {
   "display_name": "Python 3",
   "language": "python",
   "name": "python3"
  },
  "language_info": {
   "codemirror_mode": {
    "name": "ipython",
    "version": 3
   },
   "file_extension": ".py",
   "mimetype": "text/x-python",
   "name": "python",
   "nbconvert_exporter": "python",
   "pygments_lexer": "ipython3",
   "version": "3.10.11"
  }
 },
 "nbformat": 4,
 "nbformat_minor": 2
}
