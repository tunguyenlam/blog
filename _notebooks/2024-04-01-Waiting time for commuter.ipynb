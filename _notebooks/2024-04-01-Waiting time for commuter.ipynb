{
 "cells": [
  {
   "cell_type": "markdown",
   "metadata": {},
   "source": [
    "# Abstraction "
   ]
  },
  {
   "cell_type": "markdown",
   "metadata": {},
   "source": [
    "When you coming to a train station, you will think about: \"How long do I need to wait for comming train?\"\n",
    "\n",
    "In 2022, the average waiting time on a commute trip in Singapore amounted to about nine minutes. The public transport system in Singapore is made up of buses and two different rail systems: the mass rapid transit (MRT) and light rail transit (LRT)."
   ]
  },
  {
   "cell_type": "markdown",
   "metadata": {},
   "source": [
    "To estimate the waiting time, we need a probabilistic distribution that is able to model happening event during some specific time. Poisson distribution $\\mathcal{P}$, is a good way do do that:\n",
    "$$\n",
    "\\mathcal{P} = \\frac{\\lambda^k * e^{-\\lambda}}{k!}\n",
    "$$"
   ]
  },
  {
   "cell_type": "markdown",
   "metadata": {},
   "source": [
    "$\\lambda$ is a rate: number of events given a interval. eg: 3 calls per minutes at a call center. Then $\\mathcal{P}$ is the probability that we have k events in the same  interval. \n",
    "in the call center: Receiving k = 1 to 4 calls then has a probability of about 0.77, while receiving 0 or at least 5 calls has a probability of about 0.23."
   ]
  },
  {
   "cell_type": "markdown",
   "metadata": {},
   "source": []
  }
 ],
 "metadata": {
  "language_info": {
   "name": "python"
  }
 },
 "nbformat": 4,
 "nbformat_minor": 2
}
