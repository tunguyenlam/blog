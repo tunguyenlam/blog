{
 "cells": [
  {
   "cell_type": "markdown",
   "id": "a8e3a5d8",
   "metadata": {},
   "source": [
    "# A* algorithm"
   ]
  },
  {
   "cell_type": "markdown",
   "id": "47019f14",
   "metadata": {},
   "source": [
    "$A^*$ is an algorithm to find the best path between 2 points. A* is a popular algorithm and applied in many practice application especially in routing or map. It is based on best-first-search mechanisim, similarly with Dijkstra, and heuritic mechanism. $A^*$ aims to optimize both of the path from start point to current point and the path from current point to end point. Than, it has formal formula:\n",
    "$$f(n) = g(n) + h(n)$$"
   ]
  },
  {
   "cell_type": "code",
   "execution_count": null,
   "id": "0865cc41",
   "metadata": {},
   "outputs": [],
   "source": []
  }
 ],
 "metadata": {
  "kernelspec": {
   "display_name": "reflection",
   "language": "python",
   "name": "myenv"
  },
  "language_info": {
   "codemirror_mode": {
    "name": "ipython",
    "version": 3
   },
   "file_extension": ".py",
   "mimetype": "text/x-python",
   "name": "python",
   "nbconvert_exporter": "python",
   "pygments_lexer": "ipython3",
   "version": "3.8.9"
  },
  "toc": {
   "base_numbering": 1,
   "nav_menu": {},
   "number_sections": true,
   "sideBar": true,
   "skip_h1_title": false,
   "title_cell": "Table of Contents",
   "title_sidebar": "Contents",
   "toc_cell": false,
   "toc_position": {},
   "toc_section_display": true,
   "toc_window_display": true
  },
  "varInspector": {
   "cols": {
    "lenName": 16,
    "lenType": 16,
    "lenVar": 40
   },
   "kernels_config": {
    "python": {
     "delete_cmd_postfix": "",
     "delete_cmd_prefix": "del ",
     "library": "var_list.py",
     "varRefreshCmd": "print(var_dic_list())"
    },
    "r": {
     "delete_cmd_postfix": ") ",
     "delete_cmd_prefix": "rm(",
     "library": "var_list.r",
     "varRefreshCmd": "cat(var_dic_list()) "
    }
   },
   "types_to_exclude": [
    "module",
    "function",
    "builtin_function_or_method",
    "instance",
    "_Feature"
   ],
   "window_display": false
  }
 },
 "nbformat": 4,
 "nbformat_minor": 5
}
