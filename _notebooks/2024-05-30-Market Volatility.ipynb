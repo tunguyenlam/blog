{
 "cells": [
  {
   "cell_type": "markdown",
   "metadata": {},
   "source": [
    "# Sample of Market Volatility"
   ]
  },
  {
   "cell_type": "markdown",
   "metadata": {},
   "source": [
    "# Data generation\n"
   ]
  },
  {
   "cell_type": "markdown",
   "metadata": {},
   "source": [
    "yfinance offers a threaded and Pythonic way to download market data from Yahoo!Ⓡ finance."
   ]
  },
  {
   "cell_type": "code",
   "execution_count": 17,
   "metadata": {},
   "outputs": [
    {
     "name": "stderr",
     "output_type": "stream",
     "text": [
      "[*********************100%%**********************]  4 of 4 completed\n",
      "[*********************100%%**********************]  1 of 1 completed\n"
     ]
    },
    {
     "data": {
      "text/html": [
       "<div>\n",
       "<style scoped>\n",
       "    .dataframe tbody tr th:only-of-type {\n",
       "        vertical-align: middle;\n",
       "    }\n",
       "\n",
       "    .dataframe tbody tr th {\n",
       "        vertical-align: top;\n",
       "    }\n",
       "\n",
       "    .dataframe thead th {\n",
       "        text-align: right;\n",
       "    }\n",
       "</style>\n",
       "<table border=\"1\" class=\"dataframe\">\n",
       "  <thead>\n",
       "    <tr style=\"text-align: right;\">\n",
       "      <th>Ticker</th>\n",
       "      <th>BTC-USD</th>\n",
       "      <th>ETH-USD</th>\n",
       "      <th>MSFT</th>\n",
       "      <th>USDT-USD</th>\n",
       "    </tr>\n",
       "    <tr>\n",
       "      <th>Date</th>\n",
       "      <th></th>\n",
       "      <th></th>\n",
       "      <th></th>\n",
       "      <th></th>\n",
       "    </tr>\n",
       "  </thead>\n",
       "  <tbody>\n",
       "    <tr>\n",
       "      <th>2020-01-01</th>\n",
       "      <td>7200.174316</td>\n",
       "      <td>130.802002</td>\n",
       "      <td>NaN</td>\n",
       "      <td>0.999836</td>\n",
       "    </tr>\n",
       "    <tr>\n",
       "      <th>2020-01-02</th>\n",
       "      <td>6985.470215</td>\n",
       "      <td>127.410179</td>\n",
       "      <td>154.215668</td>\n",
       "      <td>1.001565</td>\n",
       "    </tr>\n",
       "    <tr>\n",
       "      <th>2020-01-03</th>\n",
       "      <td>7344.884277</td>\n",
       "      <td>134.171707</td>\n",
       "      <td>152.295395</td>\n",
       "      <td>1.004192</td>\n",
       "    </tr>\n",
       "    <tr>\n",
       "      <th>2020-01-04</th>\n",
       "      <td>7410.656738</td>\n",
       "      <td>135.069366</td>\n",
       "      <td>NaN</td>\n",
       "      <td>1.007472</td>\n",
       "    </tr>\n",
       "    <tr>\n",
       "      <th>2020-01-05</th>\n",
       "      <td>7411.317383</td>\n",
       "      <td>136.276779</td>\n",
       "      <td>NaN</td>\n",
       "      <td>1.006197</td>\n",
       "    </tr>\n",
       "  </tbody>\n",
       "</table>\n",
       "</div>"
      ],
      "text/plain": [
       "Ticker          BTC-USD     ETH-USD        MSFT  USDT-USD\n",
       "Date                                                     \n",
       "2020-01-01  7200.174316  130.802002         NaN  0.999836\n",
       "2020-01-02  6985.470215  127.410179  154.215668  1.001565\n",
       "2020-01-03  7344.884277  134.171707  152.295395  1.004192\n",
       "2020-01-04  7410.656738  135.069366         NaN  1.007472\n",
       "2020-01-05  7411.317383  136.276779         NaN  1.006197"
      ]
     },
     "execution_count": 17,
     "metadata": {},
     "output_type": "execute_result"
    }
   ],
   "source": [
    "import numpy as np\n",
    "import pandas as pd\n",
    "import yfinance as yf\n",
    "\n",
    "# Download historical data for a few example assets\n",
    "assets = ['MSFT', 'BTC-USD', 'ETH-USD', 'USDT-USD']\n",
    "data = yf.download(assets, start=\"2020-01-01\", end=\"2023-01-01\")['Adj Close']\n",
    "returns = data.pct_change().dropna()\n",
    "market_returns = yf.download('^GSPC', start=\"2020-01-01\", end=\"2023-01-01\")['Adj Close'].pct_change().dropna()\n",
    "\n",
    "data.head()"
   ]
  },
  {
   "cell_type": "markdown",
   "metadata": {},
   "source": [
    "## Volatility Calculation"
   ]
  },
  {
   "cell_type": "code",
   "execution_count": 18,
   "metadata": {},
   "outputs": [
    {
     "data": {
      "text/plain": [
       "Ticker\n",
       "BTC-USD     0.602467\n",
       "ETH-USD     0.802178\n",
       "MSFT        0.288743\n",
       "USDT-USD    0.052046\n",
       "dtype: float64"
      ]
     },
     "execution_count": 18,
     "metadata": {},
     "output_type": "execute_result"
    }
   ],
   "source": [
    "# Standard Deviation\n",
    "volatility = returns.std()\n",
    "\n",
    "# Annualized Volatility\n",
    "annualized_volatility = volatility * np.sqrt(252)\n",
    "annualized_volatility\n"
   ]
  },
  {
   "cell_type": "markdown",
   "metadata": {},
   "source": [
    "## Historical Drawdown"
   ]
  },
  {
   "cell_type": "code",
   "execution_count": 19,
   "metadata": {},
   "outputs": [
    {
     "data": {
      "text/plain": [
       "Ticker\n",
       "BTC-USD    -0.766346\n",
       "ETH-USD    -0.793512\n",
       "MSFT       -0.371485\n",
       "USDT-USD   -0.075302\n",
       "dtype: float64"
      ]
     },
     "execution_count": 19,
     "metadata": {},
     "output_type": "execute_result"
    }
   ],
   "source": [
    "def max_drawdown(returns):\n",
    "    cumulative = (1 + returns).cumprod()\n",
    "    peak = cumulative.cummax()\n",
    "    drawdown = (cumulative - peak) / peak\n",
    "    return drawdown.min()\n",
    "\n",
    "drawdowns = returns.apply(max_drawdown)\n",
    "drawdowns"
   ]
  },
  {
   "cell_type": "markdown",
   "metadata": {},
   "source": [
    "## Beta Coefficient\n"
   ]
  },
  {
   "cell_type": "code",
   "execution_count": 20,
   "metadata": {},
   "outputs": [
    {
     "data": {
      "text/plain": [
       "Ticker\n",
       "BTC-USD     1.068543\n",
       "ETH-USD     1.373727\n",
       "MSFT        1.172799\n",
       "USDT-USD   -0.051275\n",
       "dtype: float64"
      ]
     },
     "execution_count": 20,
     "metadata": {},
     "output_type": "execute_result"
    }
   ],
   "source": [
    "def calculate_beta(returns, market_returns):\n",
    "    covariance = returns.cov(market_returns)\n",
    "    market_variance = market_returns.var()\n",
    "    beta = covariance / market_variance\n",
    "    return beta\n",
    "\n",
    "betas = returns.apply(lambda x: calculate_beta(x, market_returns))\n",
    "betas"
   ]
  },
  {
   "cell_type": "markdown",
   "metadata": {},
   "source": [
    "## Correlation Analysis"
   ]
  },
  {
   "cell_type": "code",
   "execution_count": 21,
   "metadata": {},
   "outputs": [
    {
     "data": {
      "text/html": [
       "<div>\n",
       "<style scoped>\n",
       "    .dataframe tbody tr th:only-of-type {\n",
       "        vertical-align: middle;\n",
       "    }\n",
       "\n",
       "    .dataframe tbody tr th {\n",
       "        vertical-align: top;\n",
       "    }\n",
       "\n",
       "    .dataframe thead th {\n",
       "        text-align: right;\n",
       "    }\n",
       "</style>\n",
       "<table border=\"1\" class=\"dataframe\">\n",
       "  <thead>\n",
       "    <tr style=\"text-align: right;\">\n",
       "      <th>Ticker</th>\n",
       "      <th>BTC-USD</th>\n",
       "      <th>ETH-USD</th>\n",
       "      <th>MSFT</th>\n",
       "      <th>USDT-USD</th>\n",
       "    </tr>\n",
       "    <tr>\n",
       "      <th>Ticker</th>\n",
       "      <th></th>\n",
       "      <th></th>\n",
       "      <th></th>\n",
       "      <th></th>\n",
       "    </tr>\n",
       "  </thead>\n",
       "  <tbody>\n",
       "    <tr>\n",
       "      <th>BTC-USD</th>\n",
       "      <td>1.000000</td>\n",
       "      <td>0.822310</td>\n",
       "      <td>0.360478</td>\n",
       "      <td>-0.168010</td>\n",
       "    </tr>\n",
       "    <tr>\n",
       "      <th>ETH-USD</th>\n",
       "      <td>0.822310</td>\n",
       "      <td>1.000000</td>\n",
       "      <td>0.342494</td>\n",
       "      <td>-0.171702</td>\n",
       "    </tr>\n",
       "    <tr>\n",
       "      <th>MSFT</th>\n",
       "      <td>0.360478</td>\n",
       "      <td>0.342494</td>\n",
       "      <td>1.000000</td>\n",
       "      <td>-0.190877</td>\n",
       "    </tr>\n",
       "    <tr>\n",
       "      <th>USDT-USD</th>\n",
       "      <td>-0.168010</td>\n",
       "      <td>-0.171702</td>\n",
       "      <td>-0.190877</td>\n",
       "      <td>1.000000</td>\n",
       "    </tr>\n",
       "  </tbody>\n",
       "</table>\n",
       "</div>"
      ],
      "text/plain": [
       "Ticker     BTC-USD   ETH-USD      MSFT  USDT-USD\n",
       "Ticker                                          \n",
       "BTC-USD   1.000000  0.822310  0.360478 -0.168010\n",
       "ETH-USD   0.822310  1.000000  0.342494 -0.171702\n",
       "MSFT      0.360478  0.342494  1.000000 -0.190877\n",
       "USDT-USD -0.168010 -0.171702 -0.190877  1.000000"
      ]
     },
     "execution_count": 21,
     "metadata": {},
     "output_type": "execute_result"
    }
   ],
   "source": [
    "correlation_matrix = returns.corr()\n",
    "correlation_matrix\n"
   ]
  },
  {
   "cell_type": "markdown",
   "metadata": {},
   "source": [
    "## Complexity-Entropy Causality Plane"
   ]
  },
  {
   "cell_type": "markdown",
   "metadata": {},
   "source": [
    "AntroPy is a Python 3 package providing several time-efficient algorithms for computing the complexity of time-series."
   ]
  },
  {
   "cell_type": "code",
   "execution_count": 22,
   "metadata": {},
   "outputs": [
    {
     "data": {
      "text/plain": [
       "Ticker\n",
       "BTC-USD     2.582416\n",
       "ETH-USD     2.582628\n",
       "MSFT        2.520278\n",
       "USDT-USD    2.576911\n",
       "dtype: float64"
      ]
     },
     "execution_count": 22,
     "metadata": {},
     "output_type": "execute_result"
    }
   ],
   "source": [
    "import antropy as ant\n",
    "\n",
    "def permutation_entropy(time_series, emb_dim):\n",
    "    return ant.perm_entropy(time_series, order=emb_dim)\n",
    "\n",
    "permutation_entropies = returns.apply(lambda x: permutation_entropy(x.values, 3))\n",
    "permutation_entropies\n"
   ]
  },
  {
   "cell_type": "markdown",
   "metadata": {},
   "source": [
    "## Application"
   ]
  },
  {
   "cell_type": "code",
   "execution_count": 23,
   "metadata": {},
   "outputs": [
    {
     "data": {
      "text/html": [
       "<div>\n",
       "<style scoped>\n",
       "    .dataframe tbody tr th:only-of-type {\n",
       "        vertical-align: middle;\n",
       "    }\n",
       "\n",
       "    .dataframe tbody tr th {\n",
       "        vertical-align: top;\n",
       "    }\n",
       "\n",
       "    .dataframe thead th {\n",
       "        text-align: right;\n",
       "    }\n",
       "</style>\n",
       "<table border=\"1\" class=\"dataframe\">\n",
       "  <thead>\n",
       "    <tr style=\"text-align: right;\">\n",
       "      <th></th>\n",
       "      <th>Volatility</th>\n",
       "      <th>Drawdown</th>\n",
       "      <th>Beta</th>\n",
       "      <th>Complexity</th>\n",
       "      <th>RiskCategory</th>\n",
       "    </tr>\n",
       "    <tr>\n",
       "      <th>Ticker</th>\n",
       "      <th></th>\n",
       "      <th></th>\n",
       "      <th></th>\n",
       "      <th></th>\n",
       "      <th></th>\n",
       "    </tr>\n",
       "  </thead>\n",
       "  <tbody>\n",
       "    <tr>\n",
       "      <th>BTC-USD</th>\n",
       "      <td>0.602467</td>\n",
       "      <td>-0.766346</td>\n",
       "      <td>1.068543</td>\n",
       "      <td>2.582416</td>\n",
       "      <td>High</td>\n",
       "    </tr>\n",
       "    <tr>\n",
       "      <th>ETH-USD</th>\n",
       "      <td>0.802178</td>\n",
       "      <td>-0.793512</td>\n",
       "      <td>1.373727</td>\n",
       "      <td>2.582628</td>\n",
       "      <td>High</td>\n",
       "    </tr>\n",
       "    <tr>\n",
       "      <th>MSFT</th>\n",
       "      <td>0.288743</td>\n",
       "      <td>-0.371485</td>\n",
       "      <td>1.172799</td>\n",
       "      <td>2.520278</td>\n",
       "      <td>High</td>\n",
       "    </tr>\n",
       "    <tr>\n",
       "      <th>USDT-USD</th>\n",
       "      <td>0.052046</td>\n",
       "      <td>-0.075302</td>\n",
       "      <td>-0.051275</td>\n",
       "      <td>2.576911</td>\n",
       "      <td>Low</td>\n",
       "    </tr>\n",
       "  </tbody>\n",
       "</table>\n",
       "</div>"
      ],
      "text/plain": [
       "          Volatility  Drawdown      Beta  Complexity RiskCategory\n",
       "Ticker                                                           \n",
       "BTC-USD     0.602467 -0.766346  1.068543    2.582416         High\n",
       "ETH-USD     0.802178 -0.793512  1.373727    2.582628         High\n",
       "MSFT        0.288743 -0.371485  1.172799    2.520278         High\n",
       "USDT-USD    0.052046 -0.075302 -0.051275    2.576911          Low"
      ]
     },
     "execution_count": 23,
     "metadata": {},
     "output_type": "execute_result"
    }
   ],
   "source": [
    "# Categorization of Pools\n",
    "risk_levels = pd.DataFrame({\n",
    "    'Volatility': annualized_volatility,\n",
    "    'Drawdown': drawdowns,\n",
    "    'Beta': betas,\n",
    "    'Complexity': permutation_entropies\n",
    "})\n",
    "\n",
    "risk_levels['RiskCategory'] = 'Low'\n",
    "\n",
    "risk_levels.loc[(risk_levels['Volatility'] > risk_levels['Volatility'].quantile(0.33)) & \n",
    "                (risk_levels['Volatility'] <= risk_levels['Volatility'].quantile(0.66)) & \n",
    "                (risk_levels['Drawdown'] >= risk_levels['Drawdown'].quantile(0.33)) & \n",
    "                (risk_levels['Drawdown'] <= risk_levels['Drawdown'].quantile(0.66)) & \n",
    "                (risk_levels['Beta'] <= 1) & \n",
    "                (risk_levels['Complexity'] <= risk_levels['Complexity'].quantile(0.66)), 'RiskCategory'] = 'Medium'\n",
    "\n",
    "risk_levels.loc[(risk_levels['Volatility'] > risk_levels['Volatility'].quantile(0.66)) | \n",
    "                (risk_levels['Drawdown'] < risk_levels['Drawdown'].quantile(0.33)) | \n",
    "                (risk_levels['Beta'] > 1) | \n",
    "                (risk_levels['Complexity'] > risk_levels['Complexity'].quantile(0.66)), 'RiskCategory'] = 'High'\n",
    "\n",
    "\n",
    "risk_levels"
   ]
  },
  {
   "cell_type": "code",
   "execution_count": 24,
   "metadata": {},
   "outputs": [
    {
     "data": {
      "image/png": "[encoded data removed]",
      "text/plain": [
       "<Figure size 640x480 with 1 Axes>"
      ]
     },
     "metadata": {},
     "output_type": "display_data"
    }
   ],
   "source": [
    "import matplotlib.pyplot as plt\n",
    "\n",
    "plt.scatter(risk_levels['Volatility'], risk_levels['Drawdown'], c=risk_levels['RiskCategory'].map({'Low': 'green', 'Medium': 'yellow', 'High': 'red'}))\n",
    "plt.xlabel('Annualized Volatility')\n",
    "plt.ylabel('Drawdown')\n",
    "plt.title('Liquidity Pool Risk Categorization')\n",
    "plt.show()\n"
   ]
  },
  {
   "cell_type": "code",
   "execution_count": null,
   "metadata": {},
   "outputs": [],
   "source": []
  }
 ],
 "metadata": {
  "kernelspec": {
   "display_name": "Python 3",
   "language": "python",
   "name": "python3"
  },
  "language_info": {
   "codemirror_mode": {
    "name": "ipython",
    "version": 3
   },
   "file_extension": ".py",
   "mimetype": "text/x-python",
   "name": "python",
   "nbconvert_exporter": "python",
   "pygments_lexer": "ipython3",
   "version": "3.10.11"
  }
 },
 "nbformat": 4,
 "nbformat_minor": 2
}
