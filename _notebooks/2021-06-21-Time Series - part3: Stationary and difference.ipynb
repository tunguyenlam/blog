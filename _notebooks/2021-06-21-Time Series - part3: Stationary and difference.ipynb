{
 "cells": [
  {
   "cell_type": "markdown",
   "id": "ca075d00",
   "metadata": {},
   "source": [
    "## Stationary and difference"
   ]
  },
  {
   "cell_type": "markdown",
   "id": "87f45c88",
   "metadata": {},
   "source": [
    "Time series has 2 important characteristics: Stationary and difference. \n",
    "\n",
    "**Stationary**\n",
    "Time series is called stationary whenever its properties dont depend on time or they are unpreditable. In the figure above, there are only b and g are stationary. \n",
    "\n",
    "**Difference**\n",
    "Difference is a way we calculate the difference between consecutive observations. That is the way we can make treding or seasonary data to be stationary. "
   ]
  },
  {
   "cell_type": "markdown",
   "id": "9a6fa532",
   "metadata": {},
   "source": [
    "$$d_1 = y_t - y_{t-1}$$\n",
    "$$ = y_t - B^1y_t$$\n",
    "$$ = y_t (1-B)$$\n"
   ]
  },
  {
   "cell_type": "markdown",
   "id": "03ee7239",
   "metadata": {},
   "source": [
    "$$d_2 = (y_t - y_{t-1}) - (y_{t-1} - y_{t-2})$$\n",
    "$$= (y_t - B^1y_1) - (B^1y_1 - B^2y_1)$$\n",
    "$$=y_t(1-B)^2$$"
   ]
  },
  {
   "cell_type": "markdown",
   "id": "2a8aed3a",
   "metadata": {},
   "source": [
    "so we have: $$d_n = y_t(1-B)^n$$"
   ]
  },
  {
   "cell_type": "code",
   "execution_count": null,
   "id": "9aee8b64",
   "metadata": {},
   "outputs": [],
   "source": []
  }
 ],
 "metadata": {
  "kernelspec": {
   "display_name": "vortexa",
   "language": "python",
   "name": "other-env"
  },
  "language_info": {
   "codemirror_mode": {
    "name": "ipython",
    "version": 3
   },
   "file_extension": ".py",
   "mimetype": "text/x-python",
   "name": "python",
   "nbconvert_exporter": "python",
   "pygments_lexer": "ipython3",
   "version": "3.7.10"
  }
 },
 "nbformat": 4,
 "nbformat_minor": 5
}
