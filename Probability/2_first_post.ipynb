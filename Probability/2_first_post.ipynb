{
  "cells": [
    {
      "cell_type": "markdown",
      "metadata": {
        "id": "HUwmCPx1D2_g"
      },
      "source": [
        "# Highlights\n",
        "\n",
        "* In the [lecture](https://www.youtube.com/watch?v=F4tvM4Vb3A0&t=765s), J explains how training a model before cleaning can later help with cleaning. That's such a clean idea! And the built in fastai functions to do that are super handy!\n",
        "    * I'm thinking about applying this, to sequence classification in bio where the problem is you can't tell just by looking what a sequence actually is. How could we solve for that?\n",
        "\n",
        "* HuggingFace Spaces to host models, Gradio or StreamLit to build app, GitHub Pages to host website. The two can talk to each other. Which means it is possible to build web apps! \n",
        "    * I really want to do a bit of work and bring my rna models online. Maybe have a little webapp, good documentation and accompanying blog posts.\n",
        "    * Walk around the [timestamps](https://www.youtube.com/watch?v=F4tvM4Vb3A0&t=2380s) to get what you need. "
      ]
    },
    {
      "cell_type": "markdown",
      "metadata": {
        "id": "CtkuIP4tD2Vg"
      },
      "source": [
        "# Another headline\n",
        "this is test"
      ]
    },
    {
      "cell_type": "code",
      "execution_count": 1,
      "metadata": {},
      "outputs": [
        {
          "data": {
            "text/plain": [
              "10"
            ]
          },
          "execution_count": 1,
          "metadata": {},
          "output_type": "execute_result"
        }
      ],
      "source": [
        "a = 9\n",
        "b = 1\n",
        "\n",
        "a + b"
      ]
    },
    {
      "cell_type": "markdown",
      "metadata": {},
      "source": [
        "# Test commit deployment\n",
        "here is my commends"
      ]
    }
  ],
  "metadata": {
    "colab": {
      "provenance": []
    },
    "kernelspec": {
      "display_name": "Python 3",
      "name": "python3"
    },
    "language_info": {
      "codemirror_mode": {
        "name": "ipython",
        "version": 3
      },
      "file_extension": ".py",
      "mimetype": "text/x-python",
      "name": "python",
      "nbconvert_exporter": "python",
      "pygments_lexer": "ipython3",
      "version": "3.9.6"
    }
  },
  "nbformat": 4,
  "nbformat_minor": 0
}
